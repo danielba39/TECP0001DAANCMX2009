{
 "cells": [
  {
   "cell_type": "markdown",
   "metadata": {},
   "source": [
    "## Ejemplo 2: Ciclo For\n",
    "\n",
    "### 1. Objetivos:\n",
    "    - Aprender a usar `ciclos for` para luego poder automatizar procesos\n",
    " \n",
    "---\n",
    "    \n",
    "### 2. Desarrollo:"
   ]
  },
  {
   "cell_type": "markdown",
   "metadata": {},
   "source": [
    "Los `ciclos for` nos ayudan a automatizar procesos. Básicamente definimos primero sobre qué queremos iterar (o ciclar), después definimos una variable (o variables) que van a recibir cada valor de la iteración, y luego tenemos el bloque del `for`, que es donde realizamos los procesos a automatizar. Mira cómo se ven en acción:"
   ]
  },
  {
   "cell_type": "code",
   "execution_count": 2,
   "metadata": {},
   "outputs": [
    {
     "name": "stdout",
     "output_type": "stream",
     "text": [
      "1\n",
      "2\n",
      "3\n",
      "4\n",
      "5\n",
      "-11\n"
     ]
    }
   ],
   "source": [
    "# imprime la lista de los primeros cinco enteros\n",
    "lista = [1,2,3,4,5,-11]\n",
    "for x in lista:\n",
    "    print(x)"
   ]
  },
  {
   "cell_type": "code",
   "execution_count": 3,
   "metadata": {},
   "outputs": [
    {
     "name": "stdout",
     "output_type": "stream",
     "text": [
      "0\n",
      "1\n",
      "2\n",
      "3\n",
      "4\n"
     ]
    }
   ],
   "source": [
    "# imprime la lista de los primeros cinco enteros\n",
    "# usando range()\n",
    "for x in range(5):  # [0, 5) -> [0,1,2,3,4]\n",
    "    print(x)"
   ]
  },
  {
   "cell_type": "code",
   "execution_count": 4,
   "metadata": {},
   "outputs": [
    {
     "name": "stdout",
     "output_type": "stream",
     "text": [
      "[0, 1, 2, 3, 4, 5, 6, 7, 8, 9, 10, 11, 12, 13, 14, 15, 16, 17, 18, 19, 20, 21, 22, 23, 24, 25, 26, 27, 28, 29, 30, 31, 32, 33, 34, 35, 36, 37, 38, 39, 40, 41, 42, 43, 44, 45, 46, 47, 48, 49]\n"
     ]
    }
   ],
   "source": [
    "# Ahora crea una lista de los 50 primero enteros\n",
    "# y luego imprímela\n",
    "numeros = []\n",
    "for x in range(50):\n",
    "    numeros.append(x)\n",
    "\n",
    "print(numeros)"
   ]
  },
  {
   "cell_type": "code",
   "execution_count": 5,
   "metadata": {},
   "outputs": [
    {
     "name": "stdout",
     "output_type": "stream",
     "text": [
      "[150, 151, 152, 153, 154, 155, 156, 157, 158, 159, 160, 161, 162, 163, 164, 165, 166, 167, 168, 169, 170]\n"
     ]
    }
   ],
   "source": [
    "# ahora obtén e imprime los números de 150 al 170\n",
    "# usando un contador adicional al for.\n",
    "numeros = []\n",
    "x = 150\n",
    "for _ in range(21):\n",
    "    numeros.append(x)\n",
    "    x += 1  # x = x + 1\n",
    "\n",
    "print(numeros)"
   ]
  },
  {
   "cell_type": "code",
   "execution_count": 6,
   "metadata": {},
   "outputs": [
    {
     "name": "stdout",
     "output_type": "stream",
     "text": [
      "a\n",
      "b\n",
      "c\n",
      "d\n",
      "e\n"
     ]
    }
   ],
   "source": [
    "# Si tenemos un diccionario\n",
    "dict_1 = {\n",
    "    'a': 1,\n",
    "    'b': 2,\n",
    "    'c': 3,\n",
    "    'd': 4,\n",
    "    'e': 5\n",
    "}\n",
    "\n",
    "# Imprime la lista de las llaves del diccionario\n",
    "for k in dict_1:\n",
    "    print(k)"
   ]
  },
  {
   "cell_type": "code",
   "execution_count": 7,
   "metadata": {},
   "outputs": [
    {
     "name": "stdout",
     "output_type": "stream",
     "text": [
      "1\n",
      "2\n",
      "3\n",
      "4\n",
      "5\n"
     ]
    }
   ],
   "source": [
    "# Imprime la lista de los valores del diccionario\n",
    "for k in dict_1:\n",
    "    print(dict_1[k])"
   ]
  },
  {
   "cell_type": "markdown",
   "metadata": {},
   "source": [
    "---\n",
    "---"
   ]
  },
  {
   "cell_type": "markdown",
   "metadata": {},
   "source": [
    "## Reto 2: Automatizando con `ciclos for`\n",
    "\n",
    "### 1. Objetivos:\n",
    "    - Automatizar un proceso sencillo usando `for`\n",
    " \n",
    "---\n",
    "    \n",
    "### 2. Desarrollo:"
   ]
  },
  {
   "cell_type": "markdown",
   "metadata": {},
   "source": [
    "### a) Potencias de 2\n",
    "\n",
    "Las potencias de 2 son sumamente importantes en el mundo computacional. Dado que las computadoras trabajan con lenguaje binario, gran parte del funcionamiento interno de las computadoras funciona con potencias de 2. He aquí una pequeña muestra de las primeras potencias de 2:\n",
    "\n",
    "- 2<sup>0</sup> = 1\n",
    "- 2<sup>1</sup> = 2\n",
    "- 2<sup>2</sup> = 4\n",
    "- 2<sup>3</sup> = 8\n",
    "- 2<sup>4</sup> = 16\n",
    "- 2<sup>5</sup> = 32\n",
    "- 2<sup>6</sup> = 64\n",
    "- 2<sup>7</sup> = 128\n",
    "- 2<sup>8</sup> = 256"
   ]
  },
  {
   "cell_type": "markdown",
   "metadata": {},
   "source": [
    "Tu reto es completar la función `potencia_de_dos`. Esta función recibe el exponente (el número pequeño al lado del 2) y regresa el resultado de 2 elevado a esa potencia. El detalle es que no puedes usar ningún operador o función que compute exponentes (como `**` o `np.power`), sino que tienes que realizar el cálculo utilizando 1 `bloque if` y 1 `ciclo for`. Completa el código debajo.\n",
    "\n",
    "> **Nota**: Tu función sólo debe computar exponentes positivos"
   ]
  },
  {
   "cell_type": "code",
   "execution_count": 9,
   "metadata": {},
   "outputs": [],
   "source": [
    "def potencia_de_dos(exponente):\n",
    "    \n",
    "    if exponente < 0:\n",
    "        return None\n",
    "    elif -condicion-:\n",
    "        \n",
    "    # validar si el exponente es negativo\n",
    "    # validar si el exponente es 0\n",
    "    # Si ya es mayor que 0 entonces calcular la\n",
    "    # potencia con el for.\n",
    "    \n",
    "    resultado = 2\n",
    "            \n",
    "    return resultado"
   ]
  },
  {
   "cell_type": "markdown",
   "metadata": {},
   "source": [
    "Comprueba tu resultado ejecutando la celda inferior"
   ]
  },
  {
   "cell_type": "code",
   "execution_count": 10,
   "metadata": {},
   "outputs": [
    {
     "name": "stdout",
     "output_type": "stream",
     "text": [
      "2^1 = 2\n",
      "2^5 = 2\n",
      "2^8 = 2\n",
      "2^16 = 2\n",
      "2^-16 = None\n",
      "2^0 = 2\n"
     ]
    }
   ],
   "source": [
    "print(\"2^1 =\", potencia_de_dos(1))\n",
    "print(\"2^5 =\", potencia_de_dos(5))\n",
    "print(\"2^8 =\", potencia_de_dos(8))\n",
    "print(\"2^16 =\", potencia_de_dos(16))\n",
    "print(\"2^-16 =\", potencia_de_dos(-16))\n",
    "print(\"2^0 =\", potencia_de_dos(0))\n"
   ]
  },
  {
   "cell_type": "code",
   "execution_count": 13,
   "metadata": {},
   "outputs": [],
   "source": [
    "\"\"\"\n",
    "Varias líneas\n",
    "dos\n",
    "tres\n",
    "\"\"\"\n",
    "\n",
    "def nom():\n",
    "    \"\"\" comentar\n",
    "    varias\n",
    "    lineas\n",
    "    \"\"\"\n",
    "    pass"
   ]
  }
 ],
 "metadata": {
  "kernelspec": {
   "display_name": "Python 3",
   "language": "python",
   "name": "python3"
  },
  "language_info": {
   "codemirror_mode": {
    "name": "ipython",
    "version": 3
   },
   "file_extension": ".py",
   "mimetype": "text/x-python",
   "name": "python",
   "nbconvert_exporter": "python",
   "pygments_lexer": "ipython3",
   "version": "3.7.4"
  }
 },
 "nbformat": 4,
 "nbformat_minor": 4
}
