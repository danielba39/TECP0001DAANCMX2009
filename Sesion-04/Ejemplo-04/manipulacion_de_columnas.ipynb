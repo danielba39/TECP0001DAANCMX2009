{
 "cells": [
  {
   "cell_type": "markdown",
   "metadata": {},
   "source": [
    "## Ejemplo 4: Manipulación de columnas\n",
    "\n",
    "### 1. Objetivos:\n",
    "    - Aprender a crear nuevas columnas en un `DataFrame`\n",
    "    - Aprender a reasignar columnas\n",
    "    - Aprender a eliminar columnas\n",
    " \n",
    "---\n",
    "    \n",
    "### 2. Desarrollo:"
   ]
  },
  {
   "cell_type": "code",
   "execution_count": null,
   "metadata": {},
   "outputs": [],
   "source": [
    "import pandas as pd"
   ]
  },
  {
   "cell_type": "markdown",
   "metadata": {},
   "source": [
    "Tenemos aquí un `DataFrame`:"
   ]
  },
  {
   "cell_type": "code",
   "execution_count": null,
   "metadata": {},
   "outputs": [],
   "source": [
    "datos = {\n",
    "    \"Nombre\": [\"Pepinillo Hernández\", \"Lúpulo de Dios\",\n",
    "        \"Juan Juon\", \"Jimmy el Patatas\",\n",
    "        \"Lorenzo Retaguardias\"],\n",
    "    \"Cereal favorito\": [\"Korn Floks\", \"Verdurinis\",\n",
    "        \"Zumbaritas\", \"Diabetukis, Papá\",\n",
    "        \"Fibra Máxima 3000\"],\n",
    "    \"Hora del desayuno\": [\"11:00\", \"07:30\", \"07:00\",\n",
    "        \"08:30\", \"09:30\"]\n",
    "}\n",
    "\n",
    "df = pd.DataFrame(datos)\n",
    "df"
   ]
  },
  {
   "cell_type": "markdown",
   "metadata": {},
   "source": [
    "Agregar una nueva columna de `Frutas` con los valores `[\"Pera\", \"Manzana\", \"Plátano\", \"Guayaba\",\"Pizza\"]` haciendo uso de una Serie:\n",
    "\n",
    "`variable_dataframe[-nombre de columna-] = ps.Series(-lista de valores-)`"
   ]
  },
  {
   "cell_type": "code",
   "execution_count": null,
   "metadata": {},
   "outputs": [],
   "source": [
    "df[] = \n",
    "df"
   ]
  },
  {
   "cell_type": "markdown",
   "metadata": {},
   "source": [
    "También es posible modificar los valores de las horas del desayuno por:\n",
    "\n",
    "    \"10:30\", \"06:30\", \"06:00\", \"07:00\", \"08:00\"\n",
    "    \n",
    "Se usa la misma forma, sólo que en este caso se usa el nombre de una columna que ya existía para remplazar sus valores:"
   ]
  },
  {
   "cell_type": "code",
   "execution_count": null,
   "metadata": {},
   "outputs": [],
   "source": [
    "df[] = \n",
    "df"
   ]
  },
  {
   "cell_type": "markdown",
   "metadata": {},
   "source": [
    "Ahora, para eliminar la columna de `Frutas` se hace uso de la forma:\n",
    "\n",
    "`variable_dataframe.drop(columns=-lista de columnas a borrar-)`"
   ]
  },
  {
   "cell_type": "code",
   "execution_count": null,
   "metadata": {},
   "outputs": [],
   "source": [
    "df.drop()"
   ]
  },
  {
   "cell_type": "markdown",
   "metadata": {},
   "source": [
    "Recuerda que estos métodos sólo regresan \"vistas\". Para que el cambio permanezca, tenemos que asignar el resultado de la operación a la variable `df` o a alguna otra variable:"
   ]
  },
  {
   "cell_type": "code",
   "execution_count": null,
   "metadata": {},
   "outputs": [],
   "source": [
    "df_sin_frutas = df.drop(...)\n",
    "df_sin_frutas"
   ]
  },
  {
   "cell_type": "markdown",
   "metadata": {},
   "source": [
    "---\n",
    "---\n",
    "## Reto 4: Manipulación de Columnas\n",
    "\n",
    "### 1. Objetivos:\n",
    "    - Practicar asignar, reasignar y eliminar columnas de `DataFrames`\n",
    " \n",
    "---\n",
    "    \n",
    "### 2. Desarrollo:"
   ]
  },
  {
   "cell_type": "markdown",
   "metadata": {},
   "source": [
    "a) Transformación de `DataFrames`\n",
    "\n",
    "Eres de nuevo el Data Wrangler Inc. Tienes el mismo conjunto de datos que en el Reto pasado:"
   ]
  },
  {
   "cell_type": "code",
   "execution_count": null,
   "metadata": {},
   "outputs": [],
   "source": [
    "datos_productos = {\n",
    "    \"nombre\": [\"Pokemaster\", \"Cegatron\", \"Pikame Mucho\", \"Lazarillo de Tormes\", \"Stevie Wonder\", \"Needle\", \"El AyMeDuele\"],\n",
    "    \"precio\": [10000, 5500, 3500, 750, 15500, 12250, 23000],\n",
    "    \"peso\": [1.2, 1.5, 2.3, 5.5, 3.4, 2.4, 8.8],\n",
    "    \"capacidad de destrucción retinal\": [3, 7, 6, 8, 9, 2, 10],\n",
    "    \"disponible\": [True, False, True, True, False, False, True]\n",
    "}\n",
    "\n",
    "indice = [1, 2, 3, 4, 5, 6, 7]"
   ]
  },
  {
   "cell_type": "markdown",
   "metadata": {},
   "source": [
    "Esta vez el Analista de Datos te hace 3 nuevos pedidos que incluyen la creación de una nueva columna, la asignación de nuevos datos a una columna y la eliminación de un par de columnas.\n",
    "\n",
    "Crea un `DataFrame` usando `datos_productos` e `indice` y realiza sus pedidos."
   ]
  },
  {
   "cell_type": "code",
   "execution_count": null,
   "metadata": {},
   "outputs": [],
   "source": [
    "## Realiza aquí los imports necesarios"
   ]
  },
  {
   "cell_type": "code",
   "execution_count": null,
   "metadata": {},
   "outputs": [],
   "source": [
    "df_productos = \n",
    "df_productos"
   ]
  },
  {
   "cell_type": "code",
   "execution_count": null,
   "metadata": {},
   "outputs": [],
   "source": [
    "# Agrega por favor una columna con el nombre\n",
    "# \"nivel de dolor\" a `df_procutos_2` con los\n",
    "# valores de columna_nueva\n",
    "columna_nueva = [4, 7, 6, 8, 9, 7, 3]\n",
    "df_productos_2 = df_productos.copy()\n",
    "\n",
    "df_productos_2[] = \n",
    "df_productos_2"
   ]
  },
  {
   "cell_type": "code",
   "execution_count": null,
   "metadata": {},
   "outputs": [],
   "source": [
    "# Modifica por favor el DataFrame `df_productos_3`\n",
    "# cambiando la columna `precio` por la información\n",
    "# contenida en `precios_descuento`\n",
    "precios_descuento = [8000, 4000, 2000, 500, 14000, 10000, 15000]\n",
    "df_productos_3 = df_productos.copy()\n",
    "\n",
    "# modifica df_productos_3 aquí\n",
    "df_productos_3"
   ]
  },
  {
   "cell_type": "code",
   "execution_count": null,
   "metadata": {},
   "outputs": [],
   "source": [
    "# Elimina por favor las columnas \"precio\" y \"peso\"\n",
    "# de `df_productos` y asigna el resultado a\n",
    "# `df_productos_4`\n",
    "df_productos_4 =\n",
    "df_productos_4"
   ]
  },
  {
   "cell_type": "code",
   "execution_count": null,
   "metadata": {},
   "outputs": [],
   "source": []
  }
 ],
 "metadata": {
  "kernelspec": {
   "display_name": "Python 3",
   "language": "python",
   "name": "python3"
  },
  "language_info": {
   "codemirror_mode": {
    "name": "ipython",
    "version": 3
   },
   "file_extension": ".py",
   "mimetype": "text/x-python",
   "name": "python",
   "nbconvert_exporter": "python",
   "pygments_lexer": "ipython3",
   "version": "3.7.4"
  }
 },
 "nbformat": 4,
 "nbformat_minor": 4
}
