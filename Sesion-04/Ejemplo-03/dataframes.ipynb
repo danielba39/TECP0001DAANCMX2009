{
 "cells": [
  {
   "cell_type": "markdown",
   "metadata": {},
   "source": [
    "## Ejemplo 3: DataFrames\n",
    "\n",
    "### 1. Objetivos:\n",
    "    - Aprender a crear `DataFrames` usando diccionarios de listas\n",
    "    - Aprender a indexar `DataFrames` para obtener subconjuntos de datos\n",
    " \n",
    "---\n",
    "    \n",
    "### 2. Desarrollo:"
   ]
  },
  {
   "cell_type": "code",
   "execution_count": null,
   "metadata": {},
   "outputs": [],
   "source": [
    "import pandas as pd"
   ]
  },
  {
   "cell_type": "markdown",
   "metadata": {},
   "source": [
    "Los `DataFrames` son entonces estructuras de datos bidimensionales. Tienen filas y columnas. Hay innumerables formas de crear `DataFrames` (si quieren ahondar en el tema, [aquí hay una fuente](https://www.geeksforgeeks.org/different-ways-to-create-pandas-dataframe/) muy completa). Vamos a aprender una de ellas: los diccionarios de listas.\n",
    "\n",
    "Aquí tenemos un diccionario de listas:"
   ]
  },
  {
   "cell_type": "code",
   "execution_count": null,
   "metadata": {},
   "outputs": [],
   "source": [
    "datos = {\n",
    "    'columna_1': ['col_1_fila_0', 'col_1_fila_1',\n",
    "        'col_1_fila_2', 'col_1_fila_3', 'col_1_fila_4'],\n",
    "    \n",
    "    'columna_2': ['col_2_fila_0', 'col_2_fila_1',\n",
    "        'col_2_fila_2', 'col_2_fila_3', 'col_2_fila_4'],\n",
    "    \n",
    "    'columna_3': ['col_3_fila_0', 'col_3_fila_1',\n",
    "        'col_3_fila_2', 'col_3_fila_3', 'col_3_fila_4'],\n",
    "    \n",
    "    'columna_4': ['col_4_fila_0', 'col_4_fila_1',\n",
    "        'col_4_fila_2', 'col_4_fila_3', 'col_4_fila_4']\n",
    "}"
   ]
  },
  {
   "cell_type": "markdown",
   "metadata": {},
   "source": [
    "Vamos a convertirlo en un DataFrame con `pd.DataFrame(-diccionario-)`:"
   ]
  },
  {
   "cell_type": "code",
   "execution_count": null,
   "metadata": {},
   "outputs": [],
   "source": [
    "df = \n",
    "df"
   ]
  },
  {
   "cell_type": "markdown",
   "metadata": {},
   "source": [
    "También podemos pasarle explícitamente un índice de la forma:\n",
    "\n",
    "`pd.DataFrame(-diccionario-, index=-lista de índices-)`\n",
    "\n",
    "Asigna como índices las letras de la `A` a la `E`:"
   ]
  },
  {
   "cell_type": "code",
   "execution_count": null,
   "metadata": {},
   "outputs": [],
   "source": [
    "df = pd.DataFrame(datos, index=-lista-)\n",
    "df"
   ]
  },
  {
   "cell_type": "markdown",
   "metadata": {},
   "source": [
    "Ahora imprime las columnas 1 y 3 usando la forma:\n",
    "\n",
    "`variable_dataframe[\"col_x\", \"col_y\", ...]`"
   ]
  },
  {
   "cell_type": "code",
   "execution_count": null,
   "metadata": {},
   "outputs": [],
   "source": [
    "columnas = []\n",
    "df[columnas]"
   ]
  },
  {
   "cell_type": "markdown",
   "metadata": {},
   "source": [
    "También podemos obtener el nombre de todas las columnas con:\n",
    "\n",
    "`variable_dataframe.columns`"
   ]
  },
  {
   "cell_type": "code",
   "execution_count": null,
   "metadata": {},
   "outputs": [],
   "source": [
    "df."
   ]
  },
  {
   "cell_type": "markdown",
   "metadata": {},
   "source": [
    "> **Importante**: Usamos las palabras `observar` o `ver` porque indexar columnas no regresa una copia de esas columnas, sino solamente una \"vista\" de esas columnas, como si estuviéramos viéndolas a través de una ventana. Eso quiere decir que los cambios que realicemos a las \"vista\" se verán reflejados en el `DataFrame` original."
   ]
  },
  {
   "cell_type": "markdown",
   "metadata": {},
   "source": [
    "También es posible imprimir sólo la primera y tercer fila de las columnas seleccionadas usando la forma:\n",
    "\n",
    "`variable_dataframe[-lista de columna-].loc[-lista de filas-]`"
   ]
  },
  {
   "cell_type": "code",
   "execution_count": null,
   "metadata": {},
   "outputs": [],
   "source": [
    "df[columnas].loc[]"
   ]
  },
  {
   "cell_type": "markdown",
   "metadata": {},
   "source": [
    "O usando una variable para indicar la primera, segunda y última filas:"
   ]
  },
  {
   "cell_type": "code",
   "execution_count": null,
   "metadata": {},
   "outputs": [],
   "source": [
    "filas = []\n",
    "df[columnas].loc[filas]"
   ]
  },
  {
   "cell_type": "markdown",
   "metadata": {},
   "source": [
    "Podemos pasarle un segundo argumento a `loc` para seleccionar solamente algunas columnas de las filas que pedimos.\n",
    "\n",
    "`variable_dataframe.loc[-lista de filas-, -lista de columnas-]`\n",
    "\n",
    "En este caso estamos pidiendo la columna 'columna_2' de la segunda fila, por lo que obtenemos un solo valor:"
   ]
  },
  {
   "cell_type": "code",
   "execution_count": null,
   "metadata": {},
   "outputs": [],
   "source": [
    "df.loc[]"
   ]
  },
  {
   "cell_type": "markdown",
   "metadata": {},
   "source": [
    "O podría pensar en las filas de la `A` a la `C` y de la columna 1 a la 3:"
   ]
  },
  {
   "cell_type": "code",
   "execution_count": null,
   "metadata": {},
   "outputs": [],
   "source": [
    "df.loc[]"
   ]
  },
  {
   "cell_type": "markdown",
   "metadata": {},
   "source": [
    "¡Vayamos a practicar esto en un Reto!"
   ]
  },
  {
   "cell_type": "markdown",
   "metadata": {},
   "source": [
    "---\n",
    "---\n",
    "## Reto 3: DataFrames\n",
    "\n",
    "### 1. Objetivos:\n",
    "    - Aprender a crear `DataFrames` e indexar por columna y por fila\n",
    " \n",
    "---\n",
    "    \n",
    "### 2. Desarrollo:"
   ]
  },
  {
   "cell_type": "markdown",
   "metadata": {},
   "source": [
    "#### a) Creación e indexación de `DataFrames`\n",
    "\n",
    "Eres el Data Wrangler (procesador de datos) de EyePoker Inc. Tienes el siguiente diccionario con datos que se refieren a diferentes productos que vende la empresa. Este es tu conjunto de datos y el índice que le corresponde:"
   ]
  },
  {
   "cell_type": "code",
   "execution_count": null,
   "metadata": {},
   "outputs": [],
   "source": [
    "datos_productos = {\n",
    "    \"nombre\": [\"Pokemaster\", \"Cegatron\", \"Pikame Mucho\",\n",
    "        \"Lazarillo de Tormes\", \"Stevie Wonder\", \"Needle\",\n",
    "        \"El AyMeDuele\"],\n",
    "    \"precio\": [10000, 5500, 3500, 750, 15500, 12250, 23000],\n",
    "    \"peso\": [1.2, 1.5, 2.3, 5.5, 3.4, 2.4, 8.8],\n",
    "    \"capacidad de destrucción retinal\": [3, 7, 6, 8, 9, 2, 10],\n",
    "    \"disponible\": [True, False, True, True, False, False, True]\n",
    "}\n",
    "\n",
    "indice = [1, 2, 3, 4, 5, 6, 7]"
   ]
  },
  {
   "cell_type": "markdown",
   "metadata": {},
   "source": [
    "El Analista de Datos de la empresa quiere realizar algunas visualizaciones con este conjunto de datos, pero no es muy buen procesador de datos, así que te pide a ti ayuda para crear los subconjuntos de datos que necesita para sus visualizaciones.\n",
    "\n",
    "Te ha dado las descripciones de los subconjuntos que necesita, en el orden en el que los quiere.\n",
    "\n",
    "Tu primer paso es convertir tu `diccionario` a `DataFrame` usando `datos_productos` e `indice`:"
   ]
  },
  {
   "cell_type": "code",
   "execution_count": null,
   "metadata": {},
   "outputs": [],
   "source": [
    "## Realiza aquí los imports que necesites"
   ]
  },
  {
   "cell_type": "code",
   "execution_count": null,
   "metadata": {},
   "outputs": [],
   "source": [
    "df_productos = \n",
    "df_productos"
   ]
  },
  {
   "cell_type": "markdown",
   "metadata": {},
   "source": [
    "Ahora, indexa tu `DataFrame` para obtener los subconjuntos requeridos. Los productos en existencia tienen un orden específico en la base de datos. El orden correcto es el que está definido en `datos_productos`. Eso significa que el \"Pokemaster\" tiene el índice `1` y es el *primer* producto; y el \"El AyMeDuele\" tiene el ìndice `7` y es el *último* producto.\n",
    "\n",
    "Realiza las indexaciones debajo. Recuerda ordenar tus `DataFrames` en el orden en el que los menciona el Analista:"
   ]
  },
  {
   "cell_type": "code",
   "execution_count": null,
   "metadata": {},
   "outputs": [],
   "source": [
    "# Quiero un DataFrame que contenga los\n",
    "# productos \"Pikame Mucho\" y \"Stevie Wonder\"\n",
    "pm_sw = df_productos.loc[]\n",
    "pm_sw"
   ]
  },
  {
   "cell_type": "code",
   "execution_count": null,
   "metadata": {},
   "outputs": [],
   "source": [
    "# Quiero un DataFrame que contenga desde\n",
    "# el producto #4 hasta el último\n",
    "p4_final =\n",
    "p4_final"
   ]
  },
  {
   "cell_type": "code",
   "execution_count": null,
   "metadata": {},
   "outputs": [],
   "source": [
    "# Quiero un DataFrame que contenga los\n",
    "# productos \"El AyMeDuele\", \"Lazarillo de\n",
    "# Tormes\" y \"Needle\"\n",
    "amd_lt_n =\n",
    "amd_lt_n"
   ]
  },
  {
   "cell_type": "code",
   "execution_count": null,
   "metadata": {},
   "outputs": [],
   "source": [
    "# Quiero un DataFrame que contenga los\n",
    "# productos \"Pikame Mucho\" y \"Lazarillo de Tormes\",\n",
    "# pero sólo con las columnas \"nombre\", \"precio\"\n",
    "# y \"peso\"\n",
    "pm_lt_pp =\n",
    "pm_lt_pp"
   ]
  },
  {
   "cell_type": "code",
   "execution_count": null,
   "metadata": {},
   "outputs": [],
   "source": []
  }
 ],
 "metadata": {
  "kernelspec": {
   "display_name": "Python 3",
   "language": "python",
   "name": "python3"
  },
  "language_info": {
   "codemirror_mode": {
    "name": "ipython",
    "version": 3
   },
   "file_extension": ".py",
   "mimetype": "text/x-python",
   "name": "python",
   "nbconvert_exporter": "python",
   "pygments_lexer": "ipython3",
   "version": "3.7.4"
  }
 },
 "nbformat": 4,
 "nbformat_minor": 4
}
