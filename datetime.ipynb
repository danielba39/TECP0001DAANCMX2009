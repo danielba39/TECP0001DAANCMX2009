{
 "cells": [
  {
   "cell_type": "code",
   "execution_count": 2,
   "metadata": {},
   "outputs": [],
   "source": [
    "import datetime"
   ]
  },
  {
   "cell_type": "code",
   "execution_count": 10,
   "metadata": {},
   "outputs": [],
   "source": [
    "fecha1_str = \"2020-10-19T20:02:27.123456\"\n",
    "fecha2_str = \"19-10-2020 20:03:14\"\n",
    "fecha3_int = 8923456734   # fechas EPOC->1971-01-01, tiemstamp\n"
   ]
  },
  {
   "cell_type": "code",
   "execution_count": 5,
   "metadata": {},
   "outputs": [
    {
     "data": {
      "text/plain": [
       "\u001b[0;31mDocstring:\u001b[0m format -> strftime() style string.\n",
       "\u001b[0;31mType:\u001b[0m      method_descriptor\n"
      ]
     },
     "metadata": {},
     "output_type": "display_data"
    }
   ],
   "source": [
    "fecha1 = datetime.datetime.strptime"
   ]
  },
  {
   "cell_type": "code",
   "execution_count": 12,
   "metadata": {},
   "outputs": [
    {
     "data": {
      "text/plain": [
       "datetime.datetime(2020, 10, 19, 20, 2, 27, 123456)"
      ]
     },
     "execution_count": 12,
     "metadata": {},
     "output_type": "execute_result"
    }
   ],
   "source": [
    "fecha1 = datetime.datetime.strptime(fecha1_str,\n",
    "    \"%Y-%m-%dT%H:%M:%S.%f\")\n",
    "fecha1"
   ]
  },
  {
   "cell_type": "code",
   "execution_count": 13,
   "metadata": {},
   "outputs": [
    {
     "data": {
      "text/plain": [
       "2020"
      ]
     },
     "execution_count": 13,
     "metadata": {},
     "output_type": "execute_result"
    }
   ],
   "source": [
    "fecha1.year"
   ]
  },
  {
   "cell_type": "code",
   "execution_count": 16,
   "metadata": {},
   "outputs": [
    {
     "data": {
      "text/plain": [
       "10"
      ]
     },
     "execution_count": 16,
     "metadata": {},
     "output_type": "execute_result"
    }
   ],
   "source": [
    "fecha1.month"
   ]
  },
  {
   "cell_type": "code",
   "execution_count": 18,
   "metadata": {},
   "outputs": [
    {
     "data": {
      "text/plain": [
       "'19/10/2020T20:02:27'"
      ]
     },
     "execution_count": 18,
     "metadata": {},
     "output_type": "execute_result"
    }
   ],
   "source": [
    "fecha1.strftime(\"%d/%m/%YT%H:%M:%S\")"
   ]
  },
  {
   "cell_type": "code",
   "execution_count": 21,
   "metadata": {},
   "outputs": [
    {
     "data": {
      "text/plain": [
       "'19/10/2020'"
      ]
     },
     "execution_count": 21,
     "metadata": {},
     "output_type": "execute_result"
    }
   ],
   "source": [
    "fecha1.strftime(\"%d/%m/%Y\")"
   ]
  },
  {
   "cell_type": "code",
   "execution_count": 24,
   "metadata": {},
   "outputs": [
    {
     "data": {
      "text/plain": [
       "datetime.datetime(2020, 10, 19, 20, 3, 14)"
      ]
     },
     "execution_count": 24,
     "metadata": {},
     "output_type": "execute_result"
    }
   ],
   "source": [
    "fecha2 = datetime.datetime.strptime(fecha2_str,\n",
    "    \"%d-%m-%Y %H:%M:%S\")\n",
    "fecha2"
   ]
  },
  {
   "cell_type": "code",
   "execution_count": 29,
   "metadata": {},
   "outputs": [
    {
     "data": {
      "text/plain": [
       "datetime.datetime(2252, 10, 9, 11, 58, 54)"
      ]
     },
     "execution_count": 29,
     "metadata": {},
     "output_type": "execute_result"
    }
   ],
   "source": [
    "fecha3 = datetime.datetime.fromtimestamp(fecha3_int)\n",
    "fecha3"
   ]
  },
  {
   "cell_type": "code",
   "execution_count": 34,
   "metadata": {},
   "outputs": [
    {
     "data": {
      "text/plain": [
       "datetime.timedelta(seconds=7200)"
      ]
     },
     "execution_count": 34,
     "metadata": {},
     "output_type": "execute_result"
    }
   ],
   "source": [
    "delta2 = datetime.timedelta(hours=2)\n",
    "delta2"
   ]
  },
  {
   "cell_type": "code",
   "execution_count": 36,
   "metadata": {},
   "outputs": [
    {
     "data": {
      "text/plain": [
       "datetime.datetime(2252, 10, 9, 13, 58, 54)"
      ]
     },
     "execution_count": 36,
     "metadata": {},
     "output_type": "execute_result"
    }
   ],
   "source": [
    "fecha3 + delta2"
   ]
  },
  {
   "cell_type": "markdown",
   "metadata": {},
   "source": [
    "---\n",
    "---"
   ]
  },
  {
   "cell_type": "markdown",
   "metadata": {},
   "source": [
    "## Ciclos for y listas de diccionarios"
   ]
  },
  {
   "cell_type": "markdown",
   "metadata": {},
   "source": [
    "json(texto) -> python"
   ]
  },
  {
   "cell_type": "code",
   "execution_count": 49,
   "metadata": {},
   "outputs": [],
   "source": [
    "datos1 = \"\"\"\n",
    "[\n",
    "    {\"nom\":\"casa1\", \"color\":\"amarillo\",\n",
    "        \"precio\":123.356, \"fecha\":\"2020-10-09\"},\n",
    "    {\"nom\":\"casa2\", \"color\":\"verde\",\n",
    "        \"precio\":12.566, \"fecha\":\"2020-10-10\"},\n",
    "    {\"nom\":\"casa3\", \"color\":\"azul\",\n",
    "        \"precio\":1234.56, \"fecha\":\"2020-10-11\"}\n",
    "]\n",
    "\"\"\""
   ]
  },
  {
   "cell_type": "code",
   "execution_count": 43,
   "metadata": {},
   "outputs": [],
   "source": [
    "import json"
   ]
  },
  {
   "cell_type": "code",
   "execution_count": 52,
   "metadata": {},
   "outputs": [
    {
     "data": {
      "text/plain": [
       "[{'nom': 'casa1',\n",
       "  'color': 'amarillo',\n",
       "  'precio': 123.356,\n",
       "  'fecha': '2020-10-09'},\n",
       " {'nom': 'casa2', 'color': 'verde', 'precio': 12.566, 'fecha': '2020-10-10'},\n",
       " {'nom': 'casa3', 'color': 'azul', 'precio': 1234.56, 'fecha': '2020-10-11'}]"
      ]
     },
     "execution_count": 52,
     "metadata": {},
     "output_type": "execute_result"
    }
   ],
   "source": [
    "datos1_py = json.loads(datos1)\n",
    "datos1_py"
   ]
  },
  {
   "cell_type": "code",
   "execution_count": 59,
   "metadata": {},
   "outputs": [
    {
     "data": {
      "text/plain": [
       "{'nom': 'casa1', 'color': 'amarillo', 'precio': 123.356, 'fecha': '2020-10-09'}"
      ]
     },
     "execution_count": 59,
     "metadata": {},
     "output_type": "execute_result"
    }
   ],
   "source": [
    "datos1_py[0]"
   ]
  },
  {
   "cell_type": "code",
   "execution_count": 60,
   "metadata": {},
   "outputs": [
    {
     "name": "stdout",
     "output_type": "stream",
     "text": [
      "{'nom': 'casa1', 'color': 'amarillo', 'precio': 123.356, 'fecha': '2020-10-09'}\n",
      "\n",
      "{'nom': 'casa2', 'color': 'verde', 'precio': 12.566, 'fecha': '2020-10-10'}\n",
      "\n",
      "{'nom': 'casa3', 'color': 'azul', 'precio': 1234.56, 'fecha': '2020-10-11'}\n",
      "\n",
      "fin\n"
     ]
    }
   ],
   "source": [
    "for x in datos1_py:  # x = datos1_py[3]\n",
    "    print(x)\n",
    "    print()\n",
    "print(\"fin\")"
   ]
  },
  {
   "cell_type": "code",
   "execution_count": 66,
   "metadata": {},
   "outputs": [
    {
     "name": "stdout",
     "output_type": "stream",
     "text": [
      "casa1\n",
      "123.356\n",
      "2020-10-09\n",
      "2020-10-09 00:00:00\n",
      "2020\n",
      "<class 'dict'>\n",
      "casa2\n",
      "12.566\n",
      "2020-10-10\n",
      "2020-10-10 00:00:00\n",
      "2020\n",
      "<class 'dict'>\n",
      "casa3\n",
      "1234.56\n",
      "2020-10-11\n",
      "2020-10-11 00:00:00\n",
      "2020\n",
      "<class 'dict'>\n",
      "fin\n"
     ]
    }
   ],
   "source": [
    "for x in datos1_py:\n",
    "    print(x[\"nom\"])\n",
    "    print(x[\"precio\"])\n",
    "    print(x[\"fecha\"])\n",
    "    fecha = datetime.datetime.strptime(x[\"fecha\"],\n",
    "        \"%Y-%m-%d\")\n",
    "    print(fecha)\n",
    "    print(fecha.year)\n",
    "    print(type(x))\n",
    "print(\"fin\")"
   ]
  },
  {
   "cell_type": "code",
   "execution_count": 73,
   "metadata": {},
   "outputs": [
    {
     "data": {
      "text/plain": [
       "[['casa1', 143.09295999999998, datetime.datetime(2020, 10, 9, 0, 0)],\n",
       " ['casa2', 14.57656, datetime.datetime(2020, 10, 10, 0, 0)],\n",
       " ['casa3', 1432.0895999999998, datetime.datetime(2020, 10, 11, 0, 0)]]"
      ]
     },
     "execution_count": 73,
     "metadata": {},
     "output_type": "execute_result"
    }
   ],
   "source": [
    "casas_lista = []\n",
    "\n",
    "for x in datos1_py:\n",
    "    fecha_dt = datetime.datetime.strptime(x[\"fecha\"],\n",
    "        \"%Y-%m-%d\")\n",
    "    subtotal = x[\"precio\"] * 1.16\n",
    "    lista = [x[\"nom\"], subtotal, fecha_dt]\n",
    "    # print(casas_lista)\n",
    "    casas_lista.append(lista)\n",
    "\n",
    "casas_lista"
   ]
  },
  {
   "cell_type": "code",
   "execution_count": 75,
   "metadata": {},
   "outputs": [],
   "source": [
    "datos2 = \"\"\"\n",
    "{\n",
    "    \"casa1\": {\"precio\": 123.56, \"color\": \"azul\"},\n",
    "    \"casa2\": {\"precio\": 12.567, \"color\": \"verde\"},\n",
    "    \"casa3\": {\"precio\": 1235.6, \"color\": \"granito\"}\n",
    "}\n",
    "\"\"\""
   ]
  },
  {
   "cell_type": "code",
   "execution_count": 79,
   "metadata": {},
   "outputs": [
    {
     "data": {
      "text/plain": [
       "{'casa1': {'precio': 123.56, 'color': 'azul'},\n",
       " 'casa2': {'precio': 12.567, 'color': 'verde'},\n",
       " 'casa3': {'precio': 1235.6, 'color': 'granito'}}"
      ]
     },
     "execution_count": 79,
     "metadata": {},
     "output_type": "execute_result"
    }
   ],
   "source": [
    "datos2_py = json.loads(datos2)\n",
    "datos2_py"
   ]
  },
  {
   "cell_type": "code",
   "execution_count": 81,
   "metadata": {},
   "outputs": [
    {
     "name": "stdout",
     "output_type": "stream",
     "text": [
      "casa1\n",
      "casa2\n",
      "casa3\n"
     ]
    }
   ],
   "source": [
    "for x in datos2_py:  # datos2_py es un diccionario\n",
    "    print(x)"
   ]
  },
  {
   "cell_type": "code",
   "execution_count": 83,
   "metadata": {},
   "outputs": [
    {
     "name": "stdout",
     "output_type": "stream",
     "text": [
      "{'precio': 123.56, 'color': 'azul'}\n",
      "{'precio': 12.567, 'color': 'verde'}\n",
      "{'precio': 1235.6, 'color': 'granito'}\n"
     ]
    }
   ],
   "source": [
    "for x in datos2_py:  # datos2_py es un diccionario\n",
    "    print(datos2_py[x])"
   ]
  },
  {
   "cell_type": "code",
   "execution_count": 85,
   "metadata": {},
   "outputs": [
    {
     "name": "stdout",
     "output_type": "stream",
     "text": [
      "casa1\n",
      "{'precio': 123.56, 'color': 'azul'}\n",
      "casa2\n",
      "{'precio': 12.567, 'color': 'verde'}\n",
      "casa3\n",
      "{'precio': 1235.6, 'color': 'granito'}\n"
     ]
    }
   ],
   "source": [
    "for x in datos2_py:  # datos2_py es un diccionario\n",
    "    print(x)\n",
    "    print(datos2_py[x])"
   ]
  },
  {
   "cell_type": "code",
   "execution_count": 88,
   "metadata": {},
   "outputs": [
    {
     "name": "stdout",
     "output_type": "stream",
     "text": [
      "casa1\n",
      "123.56\n",
      "casa2\n",
      "12.567\n",
      "casa3\n",
      "1235.6\n"
     ]
    }
   ],
   "source": [
    "for x in datos2_py:  # datos2_py es un diccionario\n",
    "    print(x)\n",
    "    #             x -> \"casa1\", \"casa2\", \"casa3\"\n",
    "    print(datos2_py[x][\"precio\"])"
   ]
  },
  {
   "cell_type": "markdown",
   "metadata": {},
   "source": [
    "---\n",
    "---"
   ]
  },
  {
   "cell_type": "markdown",
   "metadata": {},
   "source": [
    "## if-elif-else"
   ]
  },
  {
   "cell_type": "code",
   "execution_count": 89,
   "metadata": {},
   "outputs": [],
   "source": [
    "# 1\n",
    "# 2 if condicion:  -> condición es verdadera?\n",
    "# 3    bloque  <- si si es verdadero\n",
    "# 4\n",
    "# 5"
   ]
  },
  {
   "cell_type": "code",
   "execution_count": 90,
   "metadata": {},
   "outputs": [
    {
     "data": {
      "text/plain": [
       "1"
      ]
     },
     "execution_count": 90,
     "metadata": {},
     "output_type": "execute_result"
    }
   ],
   "source": [
    "1\n",
    "2 True\n",
    "3  bloque\n",
    "4\n",
    "5"
   ]
  },
  {
   "cell_type": "code",
   "execution_count": 91,
   "metadata": {},
   "outputs": [
    {
     "ename": "SyntaxError",
     "evalue": "invalid syntax (<ipython-input-91-06edec8f66e7>, line 2)",
     "output_type": "error",
     "traceback": [
      "\u001b[0;36m  File \u001b[0;32m\"<ipython-input-91-06edec8f66e7>\"\u001b[0;36m, line \u001b[0;32m2\u001b[0m\n\u001b[0;31m    2 False\u001b[0m\n\u001b[0m          ^\u001b[0m\n\u001b[0;31mSyntaxError\u001b[0m\u001b[0;31m:\u001b[0m invalid syntax\n"
     ]
    }
   ],
   "source": [
    "1\n",
    "2 False\n",
    "4\n",
    "5"
   ]
  },
  {
   "cell_type": "code",
   "execution_count": null,
   "metadata": {},
   "outputs": [],
   "source": [
    "# 1\n",
    "# 2 if condicion:  -> condición es verdadera?\n",
    "# 3    bloque1  <- si si es verdadero\n",
    "# 4 else:\n",
    "# 5    bloque2  <- si es falso\n",
    "# 6\n",
    "# 7"
   ]
  },
  {
   "cell_type": "code",
   "execution_count": null,
   "metadata": {},
   "outputs": [],
   "source": [
    "1\n",
    "2 False\n",
    "4\n",
    "5 bloque2\n",
    "6\n",
    "7\n"
   ]
  },
  {
   "cell_type": "code",
   "execution_count": null,
   "metadata": {},
   "outputs": [],
   "source": [
    "1\n",
    "2 True\n",
    "3 bloque1\n",
    "6\n",
    "7"
   ]
  }
 ],
 "metadata": {
  "kernelspec": {
   "display_name": "Python 3",
   "language": "python",
   "name": "python3"
  },
  "language_info": {
   "codemirror_mode": {
    "name": "ipython",
    "version": 3
   },
   "file_extension": ".py",
   "mimetype": "text/x-python",
   "name": "python",
   "nbconvert_exporter": "python",
   "pygments_lexer": "ipython3",
   "version": "3.7.4"
  }
 },
 "nbformat": 4,
 "nbformat_minor": 4
}
