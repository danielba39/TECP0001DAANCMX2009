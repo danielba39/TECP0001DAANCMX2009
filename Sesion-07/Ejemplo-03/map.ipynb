{
 "cells": [
  {
   "cell_type": "markdown",
   "metadata": {},
   "source": [
    "## Ejemplo 3: `map`\n",
    "\n",
    "### 1. Objetivos:\n",
    "    - Usar `map` para convertir datos usando un `diccionario` o una `función``\n",
    " \n",
    "---\n",
    "    \n",
    "### 2. Desarrollo:"
   ]
  },
  {
   "cell_type": "code",
   "execution_count": null,
   "metadata": {},
   "outputs": [],
   "source": [
    "import pandas as pd"
   ]
  },
  {
   "cell_type": "code",
   "execution_count": null,
   "metadata": {},
   "outputs": [],
   "source": [
    "df = pd.read_csv(\n",
    "    '../../Datasets/new_york_times_bestsellers-dirty.csv',\n",
    "    index_col=0)\n",
    "df.head(3)"
   ]
  },
  {
   "cell_type": "markdown",
   "metadata": {},
   "source": [
    "Imprimiendo todos los elementos únicos en la columna `rank.numberInt` usando\n",
    "\n",
    "`df[-columna-].unique()`"
   ]
  },
  {
   "cell_type": "code",
   "execution_count": null,
   "metadata": {},
   "outputs": [],
   "source": [
    "# tu código"
   ]
  },
  {
   "cell_type": "markdown",
   "metadata": {},
   "source": [
    "Digamos que queremos transformar los datos de nuestra columna 'rank.numberInt' para que el 'rankink' esté dado por letras, no por números.\n",
    "\n",
    "Sabemos que hay un valor 'No Rank' en esa columna, así que nuestro diccionario de conversión podría verse así:"
   ]
  },
  {
   "cell_type": "code",
   "execution_count": null,
   "metadata": {},
   "outputs": [],
   "source": [
    "int_a_letra = {\n",
    "    '1': 'a',\n",
    "    '2': 'b',\n",
    "    '3': 'c',\n",
    "    '4': 'd',\n",
    "    '5': 'e',\n",
    "    '6': 'f',\n",
    "    '7': 'g',\n",
    "    '8': 'h',\n",
    "    '9': 'i',\n",
    "    '10': 'j',\n",
    "    '11': 'k',\n",
    "    '12': 'l',\n",
    "    '13': 'm',\n",
    "    '14': 'n',\n",
    "    '15': 'o',\n",
    "    '16': 'p',\n",
    "    'No Rank': 'z'\n",
    "}"
   ]
  },
  {
   "cell_type": "markdown",
   "metadata": {},
   "source": [
    "Lo aplicamos usando `map`:\n",
    "\n",
    "`dataframe[-columna-].map(-diccionario-)`"
   ]
  },
  {
   "cell_type": "code",
   "execution_count": null,
   "metadata": {},
   "outputs": [],
   "source": [
    "df[\"rank.numberInt\"].map(...).head(20)"
   ]
  },
  {
   "cell_type": "markdown",
   "metadata": {},
   "source": [
    "También podemos usar una función para `map`. Por ejemplo esta función que realiza una correspondencia entre el precio de un libro y su representación en `string`:"
   ]
  },
  {
   "cell_type": "code",
   "execution_count": null,
   "metadata": {},
   "outputs": [],
   "source": [
    "def numero_a_moneda(valor):\n",
    "    \"\"\" convierte de float a cadena \"\"\"\n",
    "    return f\"${valor:.2f} M.N.\""
   ]
  },
  {
   "cell_type": "code",
   "execution_count": null,
   "metadata": {},
   "outputs": [],
   "source": [
    "df['price.numberDouble'].map(-función-).head(20)"
   ]
  },
  {
   "cell_type": "markdown",
   "metadata": {},
   "source": [
    "Lo único que tienes que pensar al usar `map` es: \"¿Este dato tiene una correspondencia con otro dato que pueda representar con un diccionario o una función?\". Y listo."
   ]
  },
  {
   "cell_type": "markdown",
   "metadata": {},
   "source": [
    "---\n",
    "---"
   ]
  },
  {
   "cell_type": "markdown",
   "metadata": {},
   "source": [
    "## Reto 3: Map\n",
    "\n",
    "### 1. Objetivos:\n",
    "    - Practicar el uso del método `map` para mapear un dato a otro dato que le corresponde.\n",
    "    \n",
    "---\n",
    "    \n",
    "### 2. Desarrollo:"
   ]
  },
  {
   "cell_type": "markdown",
   "metadata": {},
   "source": [
    "#### a) Booleanos a numéricos\n",
    "\n",
    "Vamos a trabajar sobre el dataset que guardaste en el Reto anterior. Esta vez tu Reto es muy sencillo:\n",
    "\n",
    "1. La columna `is_potentially_hazardous_asteroid` tiene valores `booleanos`. Crea un diccionario de mapeo donde hagas un correspondencia de cada valor `booleano` con su equivalente numérico y transforma esa columna.\n",
    "2. Usa una función para mapear la columna `relative_velocity.kilometers_per_hour` a una nueva columna llamada `relative_velocity.kilometers_per_minute`, que contenga la velocidad del objeto en kilómetros por minuto.\n",
    "3. Guarda tu `DataFrame` resultante en la variable `df_reto_3`.\n",
    "4. Guarda tu resultado en un archivo .csv."
   ]
  },
  {
   "cell_type": "code",
   "execution_count": null,
   "metadata": {},
   "outputs": [],
   "source": [
    "import pandas as pd"
   ]
  },
  {
   "cell_type": "code",
   "execution_count": null,
   "metadata": {},
   "outputs": [],
   "source": [
    "df_reto_3 = pd.read_csv(\"../Ejemplo-02/objetos_cercanos_2.csv\", index_col=0)\n",
    "df_reto_3.head(3)"
   ]
  },
  {
   "cell_type": "code",
   "execution_count": null,
   "metadata": {},
   "outputs": [],
   "source": [
    "# analiza"
   ]
  },
  {
   "cell_type": "code",
   "execution_count": null,
   "metadata": {},
   "outputs": [],
   "source": [
    "# mapea\n",
    "...\n",
    "df_reto_3[\"is_potentially_hazardous_asteroid\"]"
   ]
  },
  {
   "cell_type": "code",
   "execution_count": null,
   "metadata": {},
   "outputs": [],
   "source": [
    "# analiza"
   ]
  },
  {
   "cell_type": "code",
   "execution_count": null,
   "metadata": {},
   "outputs": [],
   "source": [
    "# transforma usando función\n",
    "...\n",
    "df_reto_3[\"relative_velocity.kilometers_per_minute\"]"
   ]
  },
  {
   "cell_type": "code",
   "execution_count": null,
   "metadata": {},
   "outputs": [],
   "source": [
    "# guarda resultado al archivo objetos_cercanos_3.csv"
   ]
  },
  {
   "cell_type": "code",
   "execution_count": null,
   "metadata": {},
   "outputs": [],
   "source": []
  }
 ],
 "metadata": {
  "kernelspec": {
   "display_name": "Python 3",
   "language": "python",
   "name": "python3"
  },
  "language_info": {
   "codemirror_mode": {
    "name": "ipython",
    "version": 3
   },
   "file_extension": ".py",
   "mimetype": "text/x-python",
   "name": "python",
   "nbconvert_exporter": "python",
   "pygments_lexer": "ipython3",
   "version": "3.7.4"
  }
 },
 "nbformat": 4,
 "nbformat_minor": 4
}
