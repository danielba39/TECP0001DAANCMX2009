{
 "cells": [
  {
   "cell_type": "markdown",
   "metadata": {},
   "source": [
    "## Ejemplo 6: Sort\n",
    "\n",
    "### 1. Objetivos:\n",
    "    - Aprender a usar `sort_values` para reordenar nuestros datos\n",
    " \n",
    "---\n",
    "    \n",
    "### 2. Desarrollo:"
   ]
  },
  {
   "cell_type": "code",
   "execution_count": null,
   "metadata": {},
   "outputs": [],
   "source": [
    "import pandas as pd"
   ]
  },
  {
   "cell_type": "code",
   "execution_count": null,
   "metadata": {},
   "outputs": [],
   "source": [
    "df = pd.read_csv('../../Datasets/new_york_times_bestsellers-dirty.csv', index_col=0)\n",
    "df.head(3)"
   ]
  },
  {
   "cell_type": "markdown",
   "metadata": {},
   "source": [
    "Por ejemplo, queremos ordenar nuestras entradas empezando por el libro de mayor precio hasta el libro de menor precio. Esto es un ordenamiento usando la columna 'price.numberDouble' de manera descendente. Esto se haría de la siguiente manera usando el método:\n",
    "\n",
    "`dataframe.sort_values(-columna-, ascending=False)`"
   ]
  },
  {
   "cell_type": "code",
   "execution_count": null,
   "metadata": {},
   "outputs": [],
   "source": [
    "# tu código"
   ]
  },
  {
   "cell_type": "markdown",
   "metadata": {},
   "source": [
    "Si ordenamos en base a 'published_date.numberLong' podemos también obtener la lista desde la publicación más antigua hasta la publicación más reciente:"
   ]
  },
  {
   "cell_type": "code",
   "execution_count": null,
   "metadata": {},
   "outputs": [],
   "source": [
    "ordenado_fecha_publicacion = df.sort_values(\"published_date.numberLong\")\n",
    "ordenado_fecha_publicacion"
   ]
  },
  {
   "cell_type": "markdown",
   "metadata": {},
   "source": [
    "Per como seguramente no lo crees aún, vamos a convertir la fechas timestamp a datetime con el método:\n",
    "\n",
    "`pd.to_datetime(-dataframe[columna]-, unit=\"ms\")`"
   ]
  },
  {
   "cell_type": "code",
   "execution_count": null,
   "metadata": {},
   "outputs": [],
   "source": [
    "ordenado_fecha_publicacion[\"published_date.numberLong\"] = ...\n",
    "ordenado_fecha_publicacion[[\"amazon_product_url\",\n",
    "    \"published_date.numberLong\"]]"
   ]
  },
  {
   "cell_type": "markdown",
   "metadata": {},
   "source": [
    "**NOTA PYTHONESCA:** Si convertimos 'published_date.numberLong' a `datetime` desde el dataframe inicial `df`, podemos también ordenar usando el tipo `datetime`, ordenar fechas usando tipo de datos `datetime` o `int` (en alguna unidad de segundos) está bien, el ordenamiento se realizará de forma correcta, pero ordenar fechas de tipo `object` o `str` podríamos obtener resultados inesperados."
   ]
  },
  {
   "cell_type": "code",
   "execution_count": null,
   "metadata": {},
   "outputs": [],
   "source": [
    "df['published_date.numberLong'] = pd.to_datetime(\n",
    "    df['published_date.numberLong'], unit='ms')\n",
    "df.sort_values('published_date.numberLong')[[\"amazon_product_url\",\n",
    "    \"published_date.numberLong\"]]"
   ]
  },
  {
   "cell_type": "markdown",
   "metadata": {},
   "source": [
    "Por ejemplo, podríamos primero filtrar para sólo tener los libros de la editorial que tiene más libros como 'best sellers' usando la columna `publisher` y después ordenarlos del que pasó más días en la lista de 'best sellers' al que pasó menos días en la lista usando la columna `weeks_on_list.numberInt`.\n",
    "\n",
    "Primero encontramos la editorial con más bestsellers con el método:\n",
    "\n",
    "`dataframe[-columna-].value_counts()`"
   ]
  },
  {
   "cell_type": "code",
   "execution_count": null,
   "metadata": {},
   "outputs": [],
   "source": [
    "# tu código"
   ]
  },
  {
   "cell_type": "markdown",
   "metadata": {},
   "source": [
    "Filtra sólo los que perteneces a la editorial encontrada (Putnam?) usando la aplicación de filtros con:\n",
    "\n",
    "`dataframe[ dataframe[-columna-] op -valor- ]`"
   ]
  },
  {
   "cell_type": "code",
   "execution_count": null,
   "metadata": {},
   "outputs": [],
   "source": [
    "df_1 =  ...\n",
    "df_1.head(3)"
   ]
  },
  {
   "cell_type": "markdown",
   "metadata": {},
   "source": [
    "Ordenando en base a la cantidad de días como bestsellers usando:\n",
    "\n",
    "`dataframe.sort_values(-columna-, ascending=False)`"
   ]
  },
  {
   "cell_type": "code",
   "execution_count": null,
   "metadata": {},
   "outputs": [],
   "source": [
    "df_1."
   ]
  },
  {
   "cell_type": "markdown",
   "metadata": {},
   "source": [
    "---\n",
    "---"
   ]
  },
  {
   "cell_type": "markdown",
   "metadata": {},
   "source": [
    "## Reto 6: Sort\n",
    "\n",
    "### 1. Objetivos:\n",
    "    - Practicar el uso de `sort_values` para obtener datos específicos\n",
    "    \n",
    "---\n",
    "    \n",
    "### 2. Desarrollo:"
   ]
  },
  {
   "cell_type": "markdown",
   "metadata": {},
   "source": [
    "#### a) Reordenamiento para hallazgo de valores\n",
    "\n",
    "Vamos a trabajar sobre el dataset que guardaste en la sesión anterior. Tu Reto consiste en lo siguiente:\n",
    "\n",
    "1. Usa `sort_values` y `loc` para obtener el valor de la velocidad en kilómetros por segundo más lenta de todos los objetos que tenemos en el dataset y asígnalo a `velocidad_en_kilometros_por_segundo_de_objeto_mas_lento`.\n",
    "2. Usa `sort_values` y `loc` para obtener el valor del diámetro más grande medido que existe en nuestro dataset y asígnalo a `medida_de_diametro_mas_grande`"
   ]
  },
  {
   "cell_type": "code",
   "execution_count": null,
   "metadata": {},
   "outputs": [],
   "source": [
    "import pandas as pd"
   ]
  },
  {
   "cell_type": "code",
   "execution_count": null,
   "metadata": {},
   "outputs": [],
   "source": [
    "df_reto_6 = pd.read_csv(\"../Ejemplo-05/objetos_cercanos_5.csv\", index_col=0)\n",
    "df_reto_6.head(3)"
   ]
  },
  {
   "cell_type": "code",
   "execution_count": null,
   "metadata": {},
   "outputs": [],
   "source": [
    "# tu código"
   ]
  },
  {
   "cell_type": "code",
   "execution_count": null,
   "metadata": {},
   "outputs": [],
   "source": []
  },
  {
   "cell_type": "code",
   "execution_count": null,
   "metadata": {},
   "outputs": [],
   "source": []
  },
  {
   "cell_type": "code",
   "execution_count": null,
   "metadata": {},
   "outputs": [],
   "source": []
  },
  {
   "cell_type": "code",
   "execution_count": null,
   "metadata": {},
   "outputs": [],
   "source": []
  }
 ],
 "metadata": {
  "kernelspec": {
   "display_name": "Python 3",
   "language": "python",
   "name": "python3"
  },
  "language_info": {
   "codemirror_mode": {
    "name": "ipython",
    "version": 3
   },
   "file_extension": ".py",
   "mimetype": "text/x-python",
   "name": "python",
   "nbconvert_exporter": "python",
   "pygments_lexer": "ipython3",
   "version": "3.7.4"
  }
 },
 "nbformat": 4,
 "nbformat_minor": 4
}
